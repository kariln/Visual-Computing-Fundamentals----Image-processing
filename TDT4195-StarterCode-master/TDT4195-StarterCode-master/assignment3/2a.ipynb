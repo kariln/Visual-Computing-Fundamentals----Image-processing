{
 "cells": [
  {
   "cell_type": "code",
   "execution_count": 2,
   "metadata": {},
   "outputs": [],
   "source": [
    "import numpy as np\n",
    "import skimage\n",
    "import utils\n",
    "import pathlib"
   ]
  },
  {
   "cell_type": "code",
   "execution_count": 56,
   "metadata": {},
   "outputs": [],
   "source": [
    "def lower_sum(upper_limit, array, function):\n",
    "    \"\"\"\n",
    "    Returns the sum of a function up to a upper_limit\n",
    "    \"\"\"\n",
    "    l_sum = 0\n",
    "    for i in range(0,upper_limit):\n",
    "        l_sum += function(i, array[i])\n",
    "    \n",
    "    return l_sum\n",
    "\n",
    "def otsu_thresholding(im: np.ndarray) -> int:\n",
    "    \"\"\"\n",
    "        Otsu's thresholding algorithm that segments an image into 1 or 0 (True or False)\n",
    "        The function takes in a grayscale image and outputs a boolean image\n",
    "\n",
    "        args:\n",
    "            im: np.ndarray of shape (H, W) in the range [0, 255] (dtype=np.uint8)\n",
    "        return:\n",
    "            (int) the computed thresholding value\n",
    "    \"\"\"\n",
    "    assert im.dtype == np.uint8\n",
    "    ### START YOUR CODE HERE ### (You can change anything inside this block) \n",
    "    #the steps and formulas are taken from the otsu_thresholding.pdf handout\n",
    "    \n",
    "    # You can also define other helper functions\n",
    "    L = 256 #as the range is from 0 to 255\n",
    "    \n",
    "    # 1. Compute normalized histogram of the input image \n",
    "    # The components of the histogram is denoted p_i, i = 0,1,2,..., L-1\n",
    "    hist, bin_edges = np.histogram(im, L, (0,(L-1)))\n",
    "    sum_hist = np.sum(hist)\n",
    "    p = hist/sum_hist\n",
    "    \n",
    "    #checks that the histogram is normalized:\n",
    "    assert(np.sum(p) == 1)\n",
    "    \n",
    "    # 2. Compute the cumulative sums, P_1(k), k = 0,1,2,..., L-1\n",
    "    # P_1 is the sum of p_i, i = 0,1,2,..., k\n",
    "    # equation (10-49)\n",
    "    \n",
    "    P_1 = np.fromiter(map(lambda k: lower_sum(k+1,p,lambda i,p_i : p_i), range(L)), np.float)\n",
    "    \n",
    "    # 3. Compute the cumulative mean (average intensity) , m(k), up to level k \n",
    "    # equation (10-53)\n",
    "    m = np.fromiter(map(lambda k: lower_sum(k+1,p,lambda i,p_i : p_i*i), range(L)),np.float)\n",
    "    \n",
    "    # 4.Compute the global mean (average intensity of the entire image), m_g\n",
    "    # equation (10-54)\n",
    "    m_g = lower_sum(L-1,p,lambda p_i,i : p_i*i)\n",
    "    \n",
    "    # 5. Compute the between class variance, sigma_B_2, for k = 0,1,2,...L-1\n",
    "    # equation (10-62)\n",
    "    sigma_B_2 = np.divide((m_g*P_1-m),(P_1*(1-P_1)))\n",
    "    \"\"\" what if I divide on 0?\"\"\"\n",
    "    sigma_B_2[np.isnan(sigma_B_2)] = 0 #exchanges nan with 0\n",
    "\n",
    "    \n",
    "    # 6. Obtain Otsu threshold k_star as the value of k for which sigma_B_2 is maximum, this is the optimal threshold\n",
    "    # equation (10-63)\n",
    "    # If no unique maximum exists, it is customary to average the values of k in which sigma_B_2 is maximum\n",
    "    \n",
    "    sigma_B_2_max = np.amax(sigma_B_2)\n",
    "    \n",
    "    \"\"\n",
    "    k_star_lst = np.argwhere(sigma_B_2 == sigma_B_2_max).flatten().tolist()\n",
    "    k_star = np.floor_divide(np.sum(k_star_lst), len(k_star_lst))\n",
    "    \"\"\n",
    "    # 7. Compute the global variance sigma_G_2\n",
    "    # equation (10-58)\n",
    "    \n",
    "    \"\"\"\n",
    "    Why do I do this without it impacting the threshold?\n",
    "    \"\"\"\n",
    "    \n",
    "    sigma_G_2 = lower_sum(L, p, lambda i, p_i: (i - m_g)**2 * p_i)\n",
    "    \n",
    "    #Obtain the seperability measure eta_star with k = k_star\n",
    "    # equation (10-61)\n",
    "    eta = sigma_B_2 / sigma_G_2\n",
    "    eta_star = eta[k_star]\n",
    "    \n",
    "    \n",
    "    threshold = k_star\n",
    "    return threshold\n",
    "    ### END YOUR CODE HERE ### "
   ]
  },
  {
   "cell_type": "code",
   "execution_count": 57,
   "metadata": {},
   "outputs": [
    {
     "name": "stdout",
     "output_type": "stream",
     "text": [
      "Reading image: images\\thumbprint.png\n"
     ]
    },
    {
     "name": "stderr",
     "output_type": "stream",
     "text": [
      "C:\\Users\\Kari Ness\\Anaconda3\\lib\\site-packages\\ipykernel_launcher.py:53: RuntimeWarning: invalid value encountered in true_divide\n"
     ]
    },
    {
     "name": "stdout",
     "output_type": "stream",
     "text": [
      "Found optimal threshold: 229\n",
      "Saving image to: image_processed\\thumbprint-segmented.png\n",
      "Reading image: images\\polymercell.png\n",
      "Found optimal threshold: 90\n",
      "Saving image to: image_processed\\polymercell-segmented.png\n"
     ]
    }
   ],
   "source": [
    "if __name__ == \"__main__\":\n",
    "    # DO NOT CHANGE\n",
    "    impaths_to_segment = [\n",
    "        pathlib.Path(\"thumbprint.png\"),\n",
    "        pathlib.Path(\"polymercell.png\")\n",
    "    ]\n",
    "    for impath in impaths_to_segment:\n",
    "        im = utils.read_image(impath)\n",
    "        threshold = otsu_thresholding(im)\n",
    "        print(\"Found optimal threshold:\", threshold)\n",
    "\n",
    "        # Segment the image by threshold\n",
    "        segmented_image = (im >= threshold)\n",
    "        assert im.shape == segmented_image.shape, \\\n",
    "            \"Expected image shape ({}) to be same as thresholded image shape ({})\".format(\n",
    "                im.shape, segmented_image.shape)\n",
    "        assert segmented_image.dtype == np.bool, \\\n",
    "            \"Expected thresholded image dtype to be np.bool. Was: {}\".format(\n",
    "                segmented_image.dtype)\n",
    "\n",
    "        segmented_image = utils.to_uint8(segmented_image)\n",
    "\n",
    "        save_path = \"{}-segmented.png\".format(impath.stem)\n",
    "        utils.save_im(save_path, segmented_image)"
   ]
  },
  {
   "cell_type": "code",
   "execution_count": null,
   "metadata": {},
   "outputs": [],
   "source": []
  }
 ],
 "metadata": {
  "kernelspec": {
   "display_name": "Python 3",
   "language": "python",
   "name": "python3"
  },
  "language_info": {
   "codemirror_mode": {
    "name": "ipython",
    "version": 3
   },
   "file_extension": ".py",
   "mimetype": "text/x-python",
   "name": "python",
   "nbconvert_exporter": "python",
   "pygments_lexer": "ipython3",
   "version": "3.7.3"
  }
 },
 "nbformat": 4,
 "nbformat_minor": 2
}
