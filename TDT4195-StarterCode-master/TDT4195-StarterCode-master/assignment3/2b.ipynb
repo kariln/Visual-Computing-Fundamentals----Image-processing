{
 "cells": [
  {
   "cell_type": "code",
   "execution_count": 1,
   "metadata": {},
   "outputs": [],
   "source": [
    "import utils\n",
    "import numpy as np"
   ]
  },
  {
   "cell_type": "code",
   "execution_count": 25,
   "metadata": {},
   "outputs": [],
   "source": [
    "def position_check(im,x,y):\n",
    "    #finds the size of the image, height - H, width -W\n",
    "    (H,W) = im.shape\n",
    "    \n",
    "    #checks if the seed_point is within the image\n",
    "    for i in range(x-1,x+2):\n",
    "        for j in range(y-1,y+2):\n",
    "            x_bol = (i < W) and (i >= 0)\n",
    "            y_bol = (j < H) and (j >= 0)\n",
    "            centre = (i == x) and (j == y)\n",
    "    if (x_bol and y_bol and not centre):\n",
    "        return True\n",
    "    else:\n",
    "        return False\n",
    "\n",
    "def neighbourhood(im, segmented,x,y,T):\n",
    "    for i in range(x-1,x+2):\n",
    "        for j in range(y-1,y+2):\n",
    "            if position_check(im,i,j):\n",
    "                #threshold, T, as homogeneity criteria (defines the maximum absolute difference in intensty between seed point and pixel)\n",
    "                intensity_bol = (np.abs(im[i,j] - im[x,y]) <= T)\n",
    "                if not segmented[i,j] and intensity_bol:\n",
    "                    segmented[i,j] = True\n",
    "                    #segments recursively\n",
    "                    neighbourhood(im,segmented,i,j,T)\n",
    "\n",
    "def region_growing(im: np.ndarray, seed_points: list, T: int) -> np.ndarray:\n",
    "    \"\"\"\n",
    "        A region growing algorithm that segments an image into 1 or 0 (True or False).\n",
    "        Finds candidate pixels with a Moore-neighborhood (8-connectedness). \n",
    "        Uses pixel intensity thresholding with the threshold T as the homogeneity criteria.\n",
    "        The function takes in a grayscale image and outputs a boolean image\n",
    "\n",
    "        args:\n",
    "            im: np.ndarray of shape (H, W) in the range [0, 255] (dtype=np.uint8)\n",
    "            seed_points: list of list containing seed points (row, col). Ex:\n",
    "                [[row1, col1], [row2, col2], ...]\n",
    "            T: integer value defining the threshold to used for the homogeneity criteria.\n",
    "        return:\n",
    "            (np.ndarray) of shape (H, W). dtype=np.bool\n",
    "    \"\"\"\n",
    "    ### START YOUR CODE HERE ### (You can change anything inside this block)\n",
    "    # You can also define other helper functions\n",
    "    segmented = np.zeros_like(im).astype(bool)\n",
    "    for row, col in seed_points:\n",
    "        segmented[row, col] = True\n",
    "        neighbourhood(im, segmented,row,col,T)\n",
    "        \n",
    "    return segmented\n",
    "    ### END YOUR CODE HERE ### \n"
   ]
  },
  {
   "cell_type": "code",
   "execution_count": 26,
   "metadata": {},
   "outputs": [
    {
     "name": "stdout",
     "output_type": "stream",
     "text": [
      "Reading image: images\\defective-weld.png\n"
     ]
    },
    {
     "name": "stderr",
     "output_type": "stream",
     "text": [
      "C:\\Users\\Kari Ness\\Anaconda3\\lib\\site-packages\\ipykernel_launcher.py:21: RuntimeWarning: overflow encountered in ubyte_scalars\n"
     ]
    },
    {
     "name": "stdout",
     "output_type": "stream",
     "text": [
      "Saving image to: image_processed\\defective-weld-segmented.png\n"
     ]
    }
   ],
   "source": [
    "if __name__ == \"__main__\":\n",
    "    # DO NOT CHANGE\n",
    "    im = utils.read_image(\"defective-weld.png\")\n",
    "\n",
    "    seed_points = [ # (row, column)\n",
    "        [254, 138], # Seed point 1\n",
    "        [253, 296], # Seed point 2\n",
    "        [233, 436], # Seed point 3\n",
    "        [232, 417], # Seed point 4\n",
    "    ]\n",
    "    intensity_threshold = 50\n",
    "    segmented_image = region_growing(im, seed_points, intensity_threshold)\n",
    "\n",
    "    assert im.shape == segmented_image.shape, \\\n",
    "        \"Expected image shape ({}) to be same as thresholded image shape ({})\".format(\n",
    "            im.shape, segmented_image.shape)\n",
    "    assert segmented_image.dtype == np.bool, \\\n",
    "        \"Expected thresholded image dtype to be np.bool. Was: {}\".format(\n",
    "            segmented_image.dtype)\n",
    "\n",
    "    segmented_image = utils.to_uint8(segmented_image)\n",
    "    utils.save_im(\"defective-weld-segmented.png\", segmented_image)\n",
    "\n"
   ]
  },
  {
   "cell_type": "code",
   "execution_count": null,
   "metadata": {},
   "outputs": [],
   "source": []
  },
  {
   "cell_type": "code",
   "execution_count": null,
   "metadata": {},
   "outputs": [],
   "source": []
  }
 ],
 "metadata": {
  "kernelspec": {
   "display_name": "Python 3",
   "language": "python",
   "name": "python3"
  },
  "language_info": {
   "codemirror_mode": {
    "name": "ipython",
    "version": 3
   },
   "file_extension": ".py",
   "mimetype": "text/x-python",
   "name": "python",
   "nbconvert_exporter": "python",
   "pygments_lexer": "ipython3",
   "version": "3.7.3"
  }
 },
 "nbformat": 4,
 "nbformat_minor": 2
}
